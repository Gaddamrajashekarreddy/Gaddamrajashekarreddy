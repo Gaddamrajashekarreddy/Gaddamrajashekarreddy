{
 "cells": [
  {
   "cell_type": "code",
   "execution_count": 7,
   "id": "10d44422-4e85-4ea8-8477-5f98d50b5ede",
   "metadata": {},
   "outputs": [
    {
     "name": "stdout",
     "output_type": "stream",
     "text": [
      "[['apple', 10], ['banana', 5], ['cherry', 10], ['dragon', 10], ['grapes', 9], ['apple', 20]]\n"
     ]
    }
   ],
   "source": [
    "orders = [['apple',10],['banana',5],['cherry',7],['dragon',10],['grapes',9],['apple',20]]\n",
    "\n",
    "for each in orders:\n",
    "    if each[0] == \"cherry\":\n",
    "        each[1] = 10\n",
    "        print(orders)\n",
    "\n",
    "\n",
    "        "
   ]
  },
  {
   "cell_type": "code",
   "execution_count": 5,
   "id": "e45c66fd-36c9-401f-acf7-364f53f9a19c",
   "metadata": {},
   "outputs": [
    {
     "name": "stdout",
     "output_type": "stream",
     "text": [
      "[['apple', 10], ['banana', 5], ['cherry', 7], ['dragon', 10], ['grapes', 9], ['apple', 20], ['apple', 15]]\n",
      "[10]\n",
      "10\n",
      "[10, 20]\n",
      "30\n",
      "[10, 20, 15]\n",
      "45\n"
     ]
    }
   ],
   "source": [
    "orders = [['apple',10],['banana',5],['cherry',7],['dragon',10],['grapes',9],['apple',20]]\n",
    "orders.append([\"apple\",15])\n",
    "print(orders)\n",
    "\n",
    "total = []\n",
    "for each_item in orders:\n",
    "    if each_item[0] == \"apple\":\n",
    "        total.append(each_item[1])\n",
    "        print(total)\n",
    "        print(sum(total))"
   ]
  },
  {
   "cell_type": "code",
   "execution_count": 9,
   "id": "4c66db6a-f455-4d48-b6ca-0c53dfd0b138",
   "metadata": {},
   "outputs": [
    {
     "name": "stdout",
     "output_type": "stream",
     "text": [
      "(4, 10, 9, 'A', 9.81, False, (9-6j))\n",
      "<class 'tuple'>\n"
     ]
    }
   ],
   "source": [
    "tup1 = (4,10,9,\"A\",9.81,False,9-6j)\n",
    "print(tup1)\n",
    "print(type(tup1))"
   ]
  },
  {
   "cell_type": "code",
   "execution_count": 17,
   "id": "9b9966b3-a866-403d-9801-13b5dd223dd1",
   "metadata": {},
   "outputs": [],
   "source": [
    "scores = {'virat': 90,'Hitman': 100,'thala': 99,'Rahul': 70,'ishan': 50,'jassie': 23,'pant': 61,'ashwin': 15}\n"
   ]
  },
  {
   "cell_type": "code",
   "execution_count": 23,
   "id": "467080e0-ac67-4c40-800b-febf7519e29d",
   "metadata": {},
   "outputs": [
    {
     "data": {
      "text/plain": [
       "{'virat': 90,\n",
       " 'Hitman': 100,\n",
       " 'thala': 99,\n",
       " 'Rahul': 70,\n",
       " 'ishan': 50,\n",
       " 'jassie': 23,\n",
       " 'pant': 61,\n",
       " 'ashwin': 15}"
      ]
     },
     "execution_count": 23,
     "metadata": {},
     "output_type": "execute_result"
    }
   ],
   "source": [
    "scores = {'virat': 90,'Hitman': 100,'thala': 99,'Rahul': 70,'ishan': 50,'jassie': 23,'pant': 61,'ashwin': 15}\n",
    "\n",
    "scores.update({\"viart\":0})\n",
    "scores\n",
    "\n",
    "{'virat': 90,\n",
    " 'Hitman': 100,\n",
    " 'thala': 99,\n",
    " 'Rahul': 70,\n",
    " 'ishan': 50,\n",
    " 'jassie': 23,\n",
    " 'pant': 61,\n",
    " 'ashwin': 15}\n"
   ]
  },
  {
   "cell_type": "code",
   "execution_count": null,
   "id": "a886929e-205d-4d37-b44a-d8cdac42743e",
   "metadata": {},
   "outputs": [],
   "source": []
  },
  {
   "cell_type": "code",
   "execution_count": 25,
   "id": "0f646334-f42c-42ae-9438-1156df1838e2",
   "metadata": {},
   "outputs": [
    {
     "name": "stdout",
     "output_type": "stream",
     "text": [
      "[90]\n",
      "Total Score:  90\n",
      "[90, 100]\n",
      "Total Score:  190\n",
      "[90, 100, 99]\n",
      "Total Score:  289\n",
      "[90, 100, 99, 70]\n",
      "Total Score:  359\n",
      "[90, 100, 99, 70, 50]\n",
      "Total Score:  409\n",
      "[90, 100, 99, 70, 50, 23]\n",
      "Total Score:  432\n",
      "[90, 100, 99, 70, 50, 23, 61]\n",
      "Total Score:  493\n",
      "[90, 100, 99, 70, 50, 23, 61, 15]\n",
      "Total Score:  508\n",
      "[90, 100, 99, 70, 50, 23, 61, 15, 0]\n",
      "Total Score:  508\n"
     ]
    }
   ],
   "source": [
    "scores_list = []\n",
    "for v in scores.values():\n",
    "    scores_list.append(v)\n",
    "    print(scores_list)\n",
    "    print(\"Total Score: \", sum(scores_list))"
   ]
  },
  {
   "cell_type": "code",
   "execution_count": 1,
   "id": "c566d7d8-5e00-4924-ab1d-5305d6bd011e",
   "metadata": {},
   "outputs": [
    {
     "name": "stdout",
     "output_type": "stream",
     "text": [
      "{1, 8, 9, 10, 78, 20}\n",
      "<class 'set'>\n"
     ]
    }
   ],
   "source": [
    "list1 = [1, 8, 9, 10, 20, 78, 8, 8, 8]\n",
    "s2 = set(list1)\n",
    "print(s2)\n",
    "print(type(s2))"
   ]
  },
  {
   "cell_type": "code",
   "execution_count": 5,
   "id": "1b2b5b6c-b1be-473d-b5ce-0b30c35aa9fa",
   "metadata": {},
   "outputs": [
    {
     "data": {
      "text/plain": [
       "{4}"
      ]
     },
     "execution_count": 5,
     "metadata": {},
     "output_type": "execute_result"
    }
   ],
   "source": [
    "#intersection\n",
    "s1 = {1,2,3,4}\n",
    "s2 = {4,5,6,7}\n",
    "s1 & s2"
   ]
  },
  {
   "cell_type": "code",
   "execution_count": 7,
   "id": "dab1f647-7f61-4602-8fc4-1ce352baf42e",
   "metadata": {},
   "outputs": [
    {
     "data": {
      "text/plain": [
       "{2, 4, 6}"
      ]
     },
     "execution_count": 7,
     "metadata": {},
     "output_type": "execute_result"
    }
   ],
   "source": [
    "#diffrence of two sets\n",
    "s1 = {1,2,3,4,5,6}\n",
    "s2 = {1,3,5}\n",
    "s1 - s2"
   ]
  },
  {
   "cell_type": "code",
   "execution_count": 9,
   "id": "bb24097d-edc7-4576-9172-944fe486a724",
   "metadata": {},
   "outputs": [
    {
     "data": {
      "text/plain": [
       "set()"
      ]
     },
     "execution_count": 9,
     "metadata": {},
     "output_type": "execute_result"
    }
   ],
   "source": [
    "s1 = {1,2,3,4,5,6}\n",
    "s2 = {1,3,5}\n",
    "s2 - s1"
   ]
  },
  {
   "cell_type": "code",
   "execution_count": 23,
   "id": "3cf14c52-813b-4315-bdc1-61f791715587",
   "metadata": {},
   "outputs": [
    {
     "ename": "AttributeError",
     "evalue": "'set' object has no attribute 'symmetric_differece'",
     "output_type": "error",
     "traceback": [
      "\u001b[1;31m---------------------------------------------------------------------------\u001b[0m",
      "\u001b[1;31mAttributeError\u001b[0m                            Traceback (most recent call last)",
      "Cell \u001b[1;32mIn[23], line 4\u001b[0m\n\u001b[0;32m      2\u001b[0m s1 \u001b[38;5;241m=\u001b[39m {\u001b[38;5;241m1\u001b[39m,\u001b[38;5;241m2\u001b[39m,\u001b[38;5;241m3\u001b[39m,\u001b[38;5;241m4\u001b[39m}\n\u001b[0;32m      3\u001b[0m s2 \u001b[38;5;241m=\u001b[39m {\u001b[38;5;241m4\u001b[39m,\u001b[38;5;241m5\u001b[39m,\u001b[38;5;241m6\u001b[39m}\n\u001b[1;32m----> 4\u001b[0m s1\u001b[38;5;241m.\u001b[39msymmetric_differece(s2)\n",
      "\u001b[1;31mAttributeError\u001b[0m: 'set' object has no attribute 'symmetric_differece'"
     ]
    }
   ],
   "source": [
    "#symmetric diffrence\n",
    "s1 = {1,2,3,4}\n",
    "s2 = {4,5,6}\n",
    "s1.symmetric_differece(s2)"
   ]
  },
  {
   "cell_type": "code",
   "execution_count": 17,
   "id": "f766f4e5-2708-41ea-8dbc-b258adbef938",
   "metadata": {},
   "outputs": [
    {
     "data": {
      "text/plain": [
       "True"
      ]
     },
     "execution_count": 17,
     "metadata": {},
     "output_type": "execute_result"
    }
   ],
   "source": [
    "s1 = {1,2,3,4,5}\n",
    "s2 = {1,2,3}\n",
    "s2.issubset(s1)\n"
   ]
  },
  {
   "cell_type": "code",
   "execution_count": 19,
   "id": "7fb6ccb6-9246-42d8-9eaa-39aca36153c1",
   "metadata": {},
   "outputs": [
    {
     "name": "stdout",
     "output_type": "stream",
     "text": [
      "Welcome to ds class\n",
      "we started with python\n",
      "This class is so intresting\n"
     ]
    }
   ],
   "source": [
    "str1 = \"Welcome to ds class\"\n",
    "print(str1)\n",
    "str2 = 'we started with python'\n",
    "print(str2)\n",
    "str3 = '''This class is so intresting'''\n",
    "print(str3)"
   ]
  },
  {
   "cell_type": "code",
   "execution_count": 25,
   "id": "a95c01fa-3a24-4e7b-aa37-176485156a26",
   "metadata": {},
   "outputs": [
    {
     "name": "stdout",
     "output_type": "stream",
     "text": [
      "Welcome to ds class\n"
     ]
    },
    {
     "data": {
      "text/plain": [
       "'me to'"
      ]
     },
     "execution_count": 25,
     "metadata": {},
     "output_type": "execute_result"
    }
   ],
   "source": [
    " #slicing\n",
    "print(str1)\n",
    "str1[5:10]"
   ]
  },
  {
   "cell_type": "code",
   "execution_count": 33,
   "id": "8ac13ea9-d4fc-4c45-a92b-813caeaace8b",
   "metadata": {},
   "outputs": [
    {
     "name": "stdout",
     "output_type": "stream",
     "text": [
      "Welcome to ds class\n"
     ]
    },
    {
     "data": {
      "text/plain": [
       "['Welcome', 'to', 'ds', 'class']"
      ]
     },
     "execution_count": 33,
     "metadata": {},
     "output_type": "execute_result"
    }
   ],
   "source": [
    "print(str1)\n",
    "str1.split()"
   ]
  },
  {
   "cell_type": "code",
   "execution_count": 35,
   "id": "1ab57370-146d-485f-89f6-8a7d76ad05da",
   "metadata": {},
   "outputs": [
    {
     "data": {
      "text/plain": [
       "'The product is awesome;Great Service'"
      ]
     },
     "execution_count": 35,
     "metadata": {},
     "output_type": "execute_result"
    }
   ],
   "source": [
    "#use of join() method\n",
    "reviews = [\"The product is awesome\",\"Great Service\"]\n",
    "joined_string = ';'.join(reviews)\n",
    "joined_string"
   ]
  },
  {
   "cell_type": "code",
   "execution_count": 37,
   "id": "c8b2aa34-61ed-45df-b361-5ada0df19f13",
   "metadata": {},
   "outputs": [
    {
     "data": {
      "text/plain": [
       "'       HELLO, HOW ARE YOU DOING?'"
      ]
     },
     "execution_count": 37,
     "metadata": {},
     "output_type": "execute_result"
    }
   ],
   "source": [
    "#use of strip() method\n",
    "str5 = \"       hello, how are you doing?\"\n",
    "str5.upper()"
   ]
  },
  {
   "cell_type": "code",
   "execution_count": null,
   "id": "aeb7d839-9dad-4d6a-9f65-e3dab8e26c36",
   "metadata": {},
   "outputs": [],
   "source": []
  }
 ],
 "metadata": {
  "kernelspec": {
   "display_name": "Python 3 (ipykernel)",
   "language": "python",
   "name": "python3"
  },
  "language_info": {
   "codemirror_mode": {
    "name": "ipython",
    "version": 3
   },
   "file_extension": ".py",
   "mimetype": "text/x-python",
   "name": "python",
   "nbconvert_exporter": "python",
   "pygments_lexer": "ipython3",
   "version": "3.12.7"
  }
 },
 "nbformat": 4,
 "nbformat_minor": 5
}
