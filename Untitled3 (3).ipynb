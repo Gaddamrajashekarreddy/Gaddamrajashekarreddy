{
 "cells": [
  {
   "cell_type": "code",
   "execution_count": 1,
   "id": "980aa9e0-15b0-4b6f-8a05-a2c72f5e85d1",
   "metadata": {},
   "outputs": [],
   "source": [
    "def mean_value(*n):\n",
    "    sum = 0\n",
    "    counter = 0\n",
    "    for x in n:\n",
    "        counter = counter +1\n",
    "        sum += x\n",
    "    mean = sum /counter\n",
    "    return mean\n",
    "            "
   ]
  },
  {
   "cell_type": "code",
   "execution_count": 3,
   "id": "9078f7d0-e148-4a0e-bfd4-9371a7b79988",
   "metadata": {},
   "outputs": [],
   "source": [
    "def product(*n):\n",
    "    result = 1\n",
    "    for i in range(len(n)):\n",
    "        result *= n[i]\n",
    "        return result"
   ]
  },
  {
   "cell_type": "code",
   "execution_count": null,
   "id": "a45193f3-a5c1-4507-a9a6-d5c5693cded1",
   "metadata": {},
   "outputs": [],
   "source": []
  }
 ],
 "metadata": {
  "kernelspec": {
   "display_name": "Python 3 (ipykernel)",
   "language": "python",
   "name": "python3"
  },
  "language_info": {
   "codemirror_mode": {
    "name": "ipython",
    "version": 3
   },
   "file_extension": ".py",
   "mimetype": "text/x-python",
   "name": "python",
   "nbconvert_exporter": "python",
   "pygments_lexer": "ipython3",
   "version": "3.12.7"
  }
 },
 "nbformat": 4,
 "nbformat_minor": 5
}
